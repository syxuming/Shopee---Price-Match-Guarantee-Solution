{
 "cells": [
  {
   "cell_type": "markdown",
   "metadata": {
    "papermill": {
     "duration": 0.016399,
     "end_time": "2021-05-09T12:51:15.104982",
     "exception": false,
     "start_time": "2021-05-09T12:51:15.088583",
     "status": "completed"
    },
    "tags": []
   },
   "source": [
    "# Configuration"
   ]
  },
  {
   "cell_type": "code",
   "execution_count": 1,
   "metadata": {
    "_cell_guid": "b1076dfc-b9ad-4769-8c92-a6c4dae69d19",
    "_uuid": "8f2839f25d086af736a60e9eeb907d3b93b6e0e5",
    "execution": {
     "iopub.execute_input": "2021-05-09T12:51:15.140766Z",
     "iopub.status.busy": "2021-05-09T12:51:15.140112Z",
     "iopub.status.idle": "2021-05-09T12:51:15.143080Z",
     "shell.execute_reply": "2021-05-09T12:51:15.142597Z"
    },
    "papermill": {
     "duration": 0.023314,
     "end_time": "2021-05-09T12:51:15.143231",
     "exception": false,
     "start_time": "2021-05-09T12:51:15.119917",
     "status": "completed"
    },
    "tags": []
   },
   "outputs": [],
   "source": [
    "batch_size = 32\n",
    "num_workers = 4\n",
    "n_batch = 10\n",
    "DATA_PATH = '../input/shopee-product-matching/'\n",
    "\n",
    "class CFG:\n",
    "    image_size = 640\n",
    "    s = 30\n",
    "    margin = 0.5\n",
    "    model_arch = \"eca_nfnet_l1\" # densenet121, tf_efficientnet_b0_ns, efficientnet_b3, tf_efficientnet_b4, eca_nfnet_l0, eca_nfnet_l1,\n",
    "    model_path = \"../input/shopeemodel/fold0_2814_eca_nfnet_l1_640_epoch2_4_cv83304.pth\"\n",
    "    \n",
    "    img_thres = 0.95\n",
    "    addition = 0.2\n",
    "    txt_thres = 0.75\n",
    "    multi_gpu = True\n",
    "    use_fc = False\n",
    "    fc_dim = 512"
   ]
  },
  {
   "cell_type": "code",
   "execution_count": 2,
   "metadata": {
    "execution": {
     "iopub.execute_input": "2021-05-09T12:51:15.183606Z",
     "iopub.status.busy": "2021-05-09T12:51:15.183025Z",
     "iopub.status.idle": "2021-05-09T12:51:22.584753Z",
     "shell.execute_reply": "2021-05-09T12:51:22.584230Z"
    },
    "papermill": {
     "duration": 7.426664,
     "end_time": "2021-05-09T12:51:22.584897",
     "exception": false,
     "start_time": "2021-05-09T12:51:15.158233",
     "status": "completed"
    },
    "tags": []
   },
   "outputs": [],
   "source": [
    "import pandas as pd\n",
    "import numpy as np\n",
    "import sys\n",
    "sys.path.append('../input/timm-pytorch-image-models/pytorch-image-models-master')\n",
    "import os\n",
    "import sys\n",
    "import time\n",
    "import cv2\n",
    "import PIL.Image\n",
    "import random\n",
    "from sklearn.metrics import accuracy_score\n",
    "from tqdm.notebook import tqdm\n",
    "import torch\n",
    "from torch.utils.data import DataLoader, Dataset\n",
    "import torch.nn as nn\n",
    "import torch.nn.functional as F\n",
    "import torchvision\n",
    "import torchvision.transforms as transforms\n",
    "import torch.optim as optim\n",
    "from torch.optim.lr_scheduler import CosineAnnealingLR\n",
    "import albumentations\n",
    "from tqdm.notebook import tqdm\n",
    "import matplotlib.pyplot as plt\n",
    "import gc\n",
    "from sklearn.metrics import roc_auc_score\n",
    "%matplotlib inline\n",
    "import seaborn as sns\n",
    "from pylab import rcParams\n",
    "import timm\n",
    "from warnings import filterwarnings\n",
    "from sklearn.preprocessing import LabelEncoder\n",
    "import math\n",
    "import glob\n",
    "from torch.nn import Parameter\n",
    "from cuml.neighbors import NearestNeighbors\n",
    "from collections import OrderedDict\n",
    "filterwarnings(\"ignore\")\n",
    "device = torch.device('cuda')"
   ]
  },
  {
   "cell_type": "code",
   "execution_count": 3,
   "metadata": {
    "execution": {
     "iopub.execute_input": "2021-05-09T12:51:22.622973Z",
     "iopub.status.busy": "2021-05-09T12:51:22.622403Z",
     "iopub.status.idle": "2021-05-09T12:51:22.648977Z",
     "shell.execute_reply": "2021-05-09T12:51:22.648102Z"
    },
    "papermill": {
     "duration": 0.048591,
     "end_time": "2021-05-09T12:51:22.649088",
     "exception": false,
     "start_time": "2021-05-09T12:51:22.600497",
     "status": "completed"
    },
    "tags": []
   },
   "outputs": [],
   "source": [
    "test = pd.read_csv(DATA_PATH + 'test.csv') # 导入test.csv为dataframe\n",
    "test['file_path'] = DATA_PATH + 'test_images/' + test['image']  # 加入图片的文件路径"
   ]
  },
  {
   "cell_type": "code",
   "execution_count": 4,
   "metadata": {
    "execution": {
     "iopub.execute_input": "2021-05-09T12:51:22.684514Z",
     "iopub.status.busy": "2021-05-09T12:51:22.683832Z",
     "iopub.status.idle": "2021-05-09T12:51:22.689154Z",
     "shell.execute_reply": "2021-05-09T12:51:22.688759Z"
    },
    "papermill": {
     "duration": 0.024957,
     "end_time": "2021-05-09T12:51:22.689261",
     "exception": false,
     "start_time": "2021-05-09T12:51:22.664304",
     "status": "completed"
    },
    "tags": []
   },
   "outputs": [],
   "source": [
    "# 设置随机种子，以便实验复现\n",
    "def seed_everything(seed):\n",
    "    random.seed(seed)\n",
    "    os.environ['PYTHONHASHSEED'] = str(seed)\n",
    "    np.random.seed(seed)\n",
    "    torch.manual_seed(seed)\n",
    "    torch.cuda.manual_seed(seed)\n",
    "    torch.backends.cudnn.deterministic = True\n",
    "    torch.backends.cudnn.benchmark = False # set True to be faster\n",
    "seed_everything(42)"
   ]
  },
  {
   "cell_type": "markdown",
   "metadata": {
    "papermill": {
     "duration": 0.015308,
     "end_time": "2021-05-09T12:51:22.758079",
     "exception": false,
     "start_time": "2021-05-09T12:51:22.742771",
     "status": "completed"
    },
    "tags": []
   },
   "source": [
    "# 1.CNN（使用商品图片做匹配）"
   ]
  },
  {
   "cell_type": "code",
   "execution_count": 6,
   "metadata": {
    "execution": {
     "iopub.execute_input": "2021-05-09T12:51:22.793062Z",
     "iopub.status.busy": "2021-05-09T12:51:22.792379Z",
     "iopub.status.idle": "2021-05-09T12:51:22.795251Z",
     "shell.execute_reply": "2021-05-09T12:51:22.794821Z"
    },
    "papermill": {
     "duration": 0.021482,
     "end_time": "2021-05-09T12:51:22.795350",
     "exception": false,
     "start_time": "2021-05-09T12:51:22.773868",
     "status": "completed"
    },
    "tags": []
   },
   "outputs": [],
   "source": [
    "# 对 test set 做数据增强\n",
    "transforms_valid = albumentations.Compose([\n",
    "    albumentations.Resize(CFG.image_size, CFG.image_size),\n",
    "    albumentations.Normalize()\n",
    "])\n",
    "\n",
    "transforms_valid1 = albumentations.Compose([\n",
    "    albumentations.Resize(384, 384),\n",
    "    albumentations.Normalize()\n",
    "])"
   ]
  },
  {
   "cell_type": "code",
   "execution_count": 8,
   "metadata": {
    "execution": {
     "iopub.execute_input": "2021-05-09T12:51:22.871392Z",
     "iopub.status.busy": "2021-05-09T12:51:22.870658Z",
     "iopub.status.idle": "2021-05-09T12:51:22.873347Z",
     "shell.execute_reply": "2021-05-09T12:51:22.872953Z"
    },
    "papermill": {
     "duration": 0.025952,
     "end_time": "2021-05-09T12:51:22.873466",
     "exception": false,
     "start_time": "2021-05-09T12:51:22.847514",
     "status": "completed"
    },
    "tags": []
   },
   "outputs": [],
   "source": [
    "# 定义数据集结构\n",
    "class SHOPEEDataset(Dataset):\n",
    "    def __init__(self, df, mode, transform=None):\n",
    "        self.df = df.reset_index(drop=True)\n",
    "        self.mode = mode # 数据集模式（train模式或test模式）\n",
    "        self.transform = transform # 数据增强\n",
    "        \n",
    "    def __len__(self):\n",
    "        return len(self.df) # 获取dataframe行数\n",
    "    \n",
    "    def __getitem__(self, index):\n",
    "        row = self.df.loc[index] # 获取指定（index）行\n",
    "        img = cv2.imread(row.file_path) # 用cv2读入图片数据\n",
    "        img = cv2.cvtColor(img, cv2.COLOR_BGR2RGB) # cv2默认读入是BGR格式，现在转换成RGB格式\n",
    "        \n",
    "        # 如果有数据增强，则做数据增强\n",
    "        if self.transform is not None: \n",
    "            res = self.transform(image=img) \n",
    "            img = res['image']\n",
    "        \n",
    "        # 调整一下数据格式\n",
    "        img = img.astype(np.float32)\n",
    "        img = img.transpose(2,0,1)\n",
    "        \n",
    "        # 返回 获取到的图片\n",
    "        if self.mode == 'test':\n",
    "            return torch.tensor(img).float() # 如果test模式，则只返回图片\n",
    "        else:\n",
    "            return torch.tensor(img).float(), torch.tensor(row.label_group).float() # 如果其他模式，则返回 图片 和 其所属类别标签"
   ]
  },
  {
   "cell_type": "code",
   "execution_count": 9,
   "metadata": {
    "execution": {
     "iopub.execute_input": "2021-05-09T12:51:22.915164Z",
     "iopub.status.busy": "2021-05-09T12:51:22.914449Z",
     "iopub.status.idle": "2021-05-09T12:51:22.916614Z",
     "shell.execute_reply": "2021-05-09T12:51:22.917093Z"
    },
    "papermill": {
     "duration": 0.028138,
     "end_time": "2021-05-09T12:51:22.917205",
     "exception": false,
     "start_time": "2021-05-09T12:51:22.889067",
     "status": "completed"
    },
    "tags": []
   },
   "outputs": [],
   "source": [
    "# 载入ArcFace函数，下面代码不加注释，想搞明白的同学可以微信提问。\n",
    "class ArcMarginProduct(nn.Module):\n",
    "    def __init__(self, in_features, out_features, s=30.0, m=0.50, easy_margin=False, ls_eps=0.0):\n",
    "        super(ArcMarginProduct, self).__init__()\n",
    "        self.in_features = in_features\n",
    "        self.out_features = out_features\n",
    "        self.s = s\n",
    "        self.m = m\n",
    "        self.ls_eps = ls_eps  # label smoothing\n",
    "        self.weight = Parameter(torch.FloatTensor(out_features, in_features))\n",
    "        nn.init.xavier_uniform_(self.weight)\n",
    "\n",
    "        self.easy_margin = easy_margin\n",
    "        self.cos_m = math.cos(m)\n",
    "        self.sin_m = math.sin(m)\n",
    "        self.th = math.cos(math.pi - m)\n",
    "        self.mm = math.sin(math.pi - m) * m\n",
    "\n",
    "    def forward(self, input, label):\n",
    "        cosine = F.linear(F.normalize(input), F.normalize(self.weight))\n",
    "        sine = torch.sqrt(1.0 - torch.pow(cosine, 2))\n",
    "        phi = cosine * self.cos_m - sine * self.sin_m\n",
    "        if self.easy_margin:\n",
    "            phi = torch.where(cosine > 0, phi, cosine)\n",
    "        else:\n",
    "            phi = torch.where(cosine > self.th, phi, cosine - self.mm)\n",
    "        one_hot = torch.zeros(cosine.size(), device='cuda')\n",
    "        one_hot.scatter_(1, label.view(-1, 1).long(), 1)\n",
    "        if self.ls_eps > 0:\n",
    "            one_hot = (1 - self.ls_eps) * one_hot + self.ls_eps / self.out_features\n",
    "        output = (one_hot * phi) + ((1.0 - one_hot) * cosine)\n",
    "        output *= self.s\n",
    "\n",
    "        return output"
   ]
  },
  {
   "cell_type": "code",
   "execution_count": 10,
   "metadata": {
    "execution": {
     "iopub.execute_input": "2021-05-09T12:51:22.961701Z",
     "iopub.status.busy": "2021-05-09T12:51:22.961073Z",
     "iopub.status.idle": "2021-05-09T12:51:22.963487Z",
     "shell.execute_reply": "2021-05-09T12:51:22.963922Z"
    },
    "papermill": {
     "duration": 0.03114,
     "end_time": "2021-05-09T12:51:22.964057",
     "exception": false,
     "start_time": "2021-05-09T12:51:22.932917",
     "status": "completed"
    },
    "tags": []
   },
   "outputs": [],
   "source": [
    "# 主模型网络\n",
    "class SHOPEENet(nn.Module):\n",
    "    def __init__(self, out_feature, backbone='densenet121', use_fc=True, pretrained=True):\n",
    "        super(SHOPEENet, self).__init__()\n",
    "        self.backbone = timm.create_model(backbone, pretrained=pretrained) # 创建骨干网络\n",
    "        self.out_feature = out_feature # 模型输出的类别数(本次比赛数据是11014)\n",
    "        self.pooling = nn.AdaptiveAvgPool2d(1) # 自定义一个pooling层\n",
    "\n",
    "        # 替换骨干网络的最后一部分\n",
    "        if \"efficientnet\" in CFG.model_arch:\n",
    "            self.in_features = self.backbone.classifier.in_features\n",
    "            self.backbone.global_pool = nn.Identity()\n",
    "            self.backbone.classifier = nn.Identity()\n",
    "        elif \"nfnet\" in CFG.model_arch:\n",
    "            self.in_features = self.backbone.head.fc.in_features\n",
    "            self.backbone.head.fc = nn.Identity()\n",
    "            self.backbone.head.global_pool = nn.Identity()\n",
    "        elif \"swin\" in CFG.model_arch:\n",
    "            self.in_features = self.backbone.head.in_features\n",
    "            # self.backbone.avgpool = nn.Identity()\n",
    "            self.backbone.head = nn.Identity()\n",
    "\n",
    "        print(self.in_features)\n",
    "        \n",
    "        # 定义全连接层（本方案不使用）\n",
    "        self.use_fc = use_fc\n",
    "        if self.use_fc:\n",
    "            self.dropout = nn.Dropout(p=0.0)\n",
    "            self.fc = nn.Linear(self.in_features, CFG.fc_dim)\n",
    "            self.bn = nn.BatchNorm1d(CFG.fc_dim)\n",
    "            self._init_params()\n",
    "            self.in_features = CFG.fc_dim\n",
    "            \n",
    "        # 定义arcface层\n",
    "        self.final = ArcMarginProduct(self.in_features, self.out_feature, s=CFG.s, m=CFG.margin, easy_margin=False, ls_eps=0.0)\n",
    "\n",
    "    \n",
    "    def _init_params(self): # 全连接层的初始化（本方案不使用）\n",
    "        nn.init.xavier_normal_(self.fc.weight)\n",
    "        nn.init.constant_(self.fc.bias, 0) \n",
    "        nn.init.constant_(self.bn.weight, 1)\n",
    "        nn.init.constant_(self.bn.bias, 0)\n",
    "\n",
    "    def forward(self, x, labels=None):\n",
    "        # 前向计算微调后的模型\n",
    "        if \"efficientnet\" in CFG.model_arch or \"nfnet\" in CFG.model_arch:\n",
    "            batch_size = x.shape[0]\n",
    "            features = self.backbone(x)\n",
    "            features = self.pooling(features).view(batch_size, -1)\n",
    "            features = F.normalize(features)\n",
    "\n",
    "        elif \"swin\" in CFG.model_arch:\n",
    "            batch_size = x.shape[0]\n",
    "            features = self.backbone(x)\n",
    "            # features = self.pooling(features).view(batch_size, -1)\n",
    "            features = F.normalize(features)\n",
    "\n",
    "        # 使用全连接层（本方案不使用）\n",
    "        if self.use_fc:\n",
    "            features = self.dropout(features)\n",
    "            features = self.fc(features)\n",
    "            features = self.bn(features)\n",
    "\n",
    "        # 如果有labels（训练阶段）则使用arface，如果没有label(验证或测试阶段)则直接返回图片的features\n",
    "        if labels is not None:\n",
    "            return self.final(features, labels)\n",
    "        return features"
   ]
  },
  {
   "cell_type": "code",
   "execution_count": 11,
   "metadata": {
    "execution": {
     "iopub.execute_input": "2021-05-09T12:51:23.008423Z",
     "iopub.status.busy": "2021-05-09T12:51:23.003019Z",
     "iopub.status.idle": "2021-05-09T12:51:53.021845Z",
     "shell.execute_reply": "2021-05-09T12:51:53.021170Z"
    },
    "papermill": {
     "duration": 30.042239,
     "end_time": "2021-05-09T12:51:53.022011",
     "exception": false,
     "start_time": "2021-05-09T12:51:22.979772",
     "status": "completed"
    },
    "tags": []
   },
   "outputs": [
    {
     "name": "stdout",
     "output_type": "stream",
     "text": [
      "3072\n"
     ]
    },
    {
     "data": {
      "application/vnd.jupyter.widget-view+json": {
       "model_id": "df413290be7a4731843a0257265852ce",
       "version_major": 2,
       "version_minor": 0
      },
      "text/plain": [
       "  0%|          | 0/1 [00:00<?, ?it/s]"
      ]
     },
     "metadata": {},
     "output_type": "display_data"
    },
    {
     "name": "stdout",
     "output_type": "stream",
     "text": [
      "1536\n"
     ]
    },
    {
     "data": {
      "application/vnd.jupyter.widget-view+json": {
       "model_id": "5d1dcfc81138445189310d68714fdcb2",
       "version_major": 2,
       "version_minor": 0
      },
      "text/plain": [
       "  0%|          | 0/1 [00:00<?, ?it/s]"
      ]
     },
     "metadata": {},
     "output_type": "display_data"
    },
    {
     "name": "stdout",
     "output_type": "stream",
     "text": [
      "(3, 3072) (3, 1536) (3, 4608)\n"
     ]
    }
   ],
   "source": [
    "# 验证/测试中获取图片经模型处理后的features\n",
    "def generate_test_features(test_loader):\n",
    "    model.eval() # 模型调整到评估模式\n",
    "    FEAS = [] \n",
    "    TARGETS = []\n",
    "    with torch.no_grad():\n",
    "        for batch_idx, (images) in enumerate(test_loader): # 从数据管道中导入 图片\n",
    "            images = images.to(device) # 将数据放入GPU\n",
    "            features = model(images) # 把数据放入模型获得features\n",
    "            FEAS += [features.detach().cpu()] # 存下当前features\n",
    "    FEAS = torch.cat(FEAS).cpu().numpy() \n",
    "    return FEAS # 返回所有数据的features\n",
    "\n",
    "\n",
    "\n",
    "\n"
   ]
  },
  {
   "cell_type": "markdown",
   "metadata": {},
   "source": [
    "## model1"
   ]
  },
  {
   "cell_type": "code",
   "execution_count": null,
   "metadata": {},
   "outputs": [],
   "source": [
    "# 创建model1\n",
    "model = SHOPEENet(11014, backbone=CFG.model_arch, use_fc=CFG.use_fc, pretrained=False)\n",
    "# 载入训练好的model1\n",
    "state = torch.load(CFG.model_path, map_location='cuda:0') \n",
    "if CFG.multi_gpu:\n",
    "    new_state_dict = OrderedDict()\n",
    "    for k, v in state.items():\n",
    "        k=k[7:]\n",
    "        new_state_dict[k]=v\n",
    "    model.load_state_dict(new_state_dict)\n",
    "else:\n",
    "    model.load_state_dict(state)\n",
    "model.to(device);\n",
    "model.eval()\n",
    "# 创建测试数据集1\n",
    "dataset_test = SHOPEEDataset(test, 'test', transform=transforms_valid)\n",
    "# 创建测试数据管道1\n",
    "test_loader = torch.utils.data.DataLoader(dataset_test, batch_size=batch_size, shuffle=False, num_workers=num_workers, pin_memory=True)\n",
    "\n",
    "FEAS0 = generate_test_features(model, test_loader) # 获得model1的features\n",
    "del model, state, dataset_test, test_loader  # 删掉以上模型和数据集（留出更多内存空间）\n",
    "gc.collect() # 清理内存\n",
    "torch.cuda.empty_cache() # 清理显存"
   ]
  },
  {
   "cell_type": "markdown",
   "metadata": {},
   "source": [
    "## model2"
   ]
  },
  {
   "cell_type": "code",
   "execution_count": null,
   "metadata": {},
   "outputs": [],
   "source": [
    "# 创建model2\n",
    "CFG.model_arch = \"swin_large_patch4_window12_384\"\n",
    "model1 = SHOPEENet(11014, backbone=\"swin_large_patch4_window12_384\", use_fc=CFG.use_fc, pretrained=False)\n",
    "\n",
    "# 载入训练好的model2\n",
    "state1 = torch.load(\"../input/shopeemodel/fold0_0718_swin_large_patch4_window12_384_384_epoch12.pth\", map_location='cuda:0')\n",
    "if CFG.multi_gpu:\n",
    "    new_state_dict = OrderedDict()\n",
    "    for k, v in state1.items():\n",
    "        k=k[7:]\n",
    "        new_state_dict[k]=v\n",
    "    model1.load_state_dict(new_state_dict)\n",
    "else:\n",
    "    model1.load_state_dict(state1)\n",
    "model1.to(device);\n",
    "model1.eval()\n",
    "\n",
    "# 创建测试数据集2\n",
    "dataset_test1 = SHOPEEDataset(test, 'test', transform=transforms_valid1)\n",
    "# 创建测试数据管道2\n",
    "test_loader1 = torch.utils.data.DataLoader(dataset_test1, batch_size=batch_size, shuffle=False, num_workers=num_workers, pin_memory=True)\n",
    "\n",
    "FEAS1 = generate_test_features(model1, test_loader1) # 获得model2的features\n",
    "del model1, state1, dataset_test1, test_loader1 # 删掉以上模型和数据集（留出更多内存空间）\n",
    "gc.collect() # 清理内存\n",
    "torch.cuda.empty_cache() # 清理显存"
   ]
  },
  {
   "cell_type": "code",
   "execution_count": null,
   "metadata": {},
   "outputs": [],
   "source": [
    "# 合并model1和model2的features\n",
    "FEAS = np.concatenate([FEAS0,FEAS1],axis = 1) \n",
    "print(FEAS0.shape,FEAS1.shape,FEAS.shape)"
   ]
  },
  {
   "cell_type": "code",
   "execution_count": 13,
   "metadata": {
    "execution": {
     "iopub.execute_input": "2021-05-09T12:51:53.115796Z",
     "iopub.status.busy": "2021-05-09T12:51:53.115027Z",
     "iopub.status.idle": "2021-05-09T12:51:54.059866Z",
     "shell.execute_reply": "2021-05-09T12:51:54.061094Z"
    },
    "papermill": {
     "duration": 0.970862,
     "end_time": "2021-05-09T12:51:54.061431",
     "exception": false,
     "start_time": "2021-05-09T12:51:53.090569",
     "status": "completed"
    },
    "tags": []
   },
   "outputs": [
    {
     "data": {
      "application/vnd.jupyter.widget-view+json": {
       "model_id": "c3dc8ae896d645df9c4b05dbc67469b2",
       "version_major": 2,
       "version_minor": 0
      },
      "text/plain": [
       "  0%|          | 0/3 [00:00<?, ?it/s]"
      ]
     },
     "metadata": {},
     "output_type": "display_data"
    }
   ],
   "source": [
    "# 使用knn方法，寻找每张图片最近的其他图片，以匹配。\n",
    "def get_image_neighbors(df, embeddings, KNN=50):\n",
    "    model = NearestNeighbors(n_neighbors = KNN) # 创建knn模型\n",
    "    model.fit(embeddings) # 训练features\n",
    "    distances, indices = model.kneighbors(embeddings) # 获得图片之间的距离（相似度）\n",
    "    \n",
    "    predictions = []\n",
    "    for k in tqdm(range(embeddings.shape[0])): # 每张图片都拿出来两两比对\n",
    "        idx = np.where(distances[k,] < CFG.img_thres)[0] # 设置一个thres（阈值），来确定匹配的严格程度\n",
    "        # 对于没有匹配到的其他图片的图片，我们放宽阈值再匹配一次\n",
    "        if len(idx) == 1:\n",
    "            idx = np.where(distances[k,] < (CFG.img_thres + CFG.addition))[0] \n",
    "        ids = indices[k,idx]\n",
    "        posting_ids = df['posting_id'].iloc[ids].values # 输出匹配的图片\n",
    "        predictions.append(posting_ids)\n",
    "        \n",
    "    del model, distances, indices\n",
    "    gc.collect()\n",
    "    return predictions\n",
    "\n",
    "# 获得CNN的匹配结果\n",
    "image_predictions = get_image_neighbors(test, FEAS, KNN=50 if len(test)>3 else 3)\n",
    "test[\"preds1\"] = image_predictions"
   ]
  },
  {
   "cell_type": "markdown",
   "metadata": {
    "papermill": {
     "duration": 0.030814,
     "end_time": "2021-05-09T12:51:54.272876",
     "exception": false,
     "start_time": "2021-05-09T12:51:54.242062",
     "status": "completed"
    },
    "tags": []
   },
   "source": [
    "# 2.TEXT（使用TFIDF对商品标题做匹配）"
   ]
  },
  {
   "cell_type": "code",
   "execution_count": 16,
   "metadata": {
    "execution": {
     "iopub.execute_input": "2021-05-09T12:51:54.327343Z",
     "iopub.status.busy": "2021-05-09T12:51:54.326751Z",
     "iopub.status.idle": "2021-05-09T12:51:54.340407Z",
     "shell.execute_reply": "2021-05-09T12:51:54.339722Z"
    },
    "papermill": {
     "duration": 0.035947,
     "end_time": "2021-05-09T12:51:54.340579",
     "exception": false,
     "start_time": "2021-05-09T12:51:54.304632",
     "status": "completed"
    },
    "tags": []
   },
   "outputs": [
    {
     "name": "stdout",
     "output_type": "stream",
     "text": [
      "RAPIDS 0.16.0\n"
     ]
    }
   ],
   "source": [
    "# 导入tfidf相关的库\n",
    "import cudf, cuml, cupy\n",
    "from cuml.feature_extraction.text import TfidfVectorizer\n",
    "from cuml.neighbors import NearestNeighbors\n",
    "print('RAPIDS',cuml.__version__)"
   ]
  },
  {
   "cell_type": "code",
   "execution_count": 19,
   "metadata": {
    "execution": {
     "iopub.execute_input": "2021-05-09T12:51:54.498869Z",
     "iopub.status.busy": "2021-05-09T12:51:54.498149Z",
     "iopub.status.idle": "2021-05-09T12:52:07.981687Z",
     "shell.execute_reply": "2021-05-09T12:52:07.980838Z"
    },
    "papermill": {
     "duration": 13.507063,
     "end_time": "2021-05-09T12:52:07.981819",
     "exception": false,
     "start_time": "2021-05-09T12:51:54.474756",
     "status": "completed"
    },
    "tags": []
   },
   "outputs": [
    {
     "name": "stdout",
     "output_type": "stream",
     "text": [
      "text embeddings shape (3, 26)\n"
     ]
    }
   ],
   "source": [
    "test_gf = cudf.read_csv(DATA_PATH + 'test.csv') # 再次导入test.csv\n",
    "model = TfidfVectorizer(stop_words='english', binary=True, max_features=25_000) #创建tfidf模型\n",
    "text_embeddings = model.fit_transform(test_gf.title).toarray()#使用tfidf模型对test数据中的商品标题训练\n",
    "print('text embeddings shape',text_embeddings.shape) # 获得text的features"
   ]
  },
  {
   "cell_type": "code",
   "execution_count": 21,
   "metadata": {
    "execution": {
     "iopub.execute_input": "2021-05-09T12:52:08.079174Z",
     "iopub.status.busy": "2021-05-09T12:52:08.077184Z",
     "iopub.status.idle": "2021-05-09T12:52:08.434211Z",
     "shell.execute_reply": "2021-05-09T12:52:08.434677Z"
    },
    "papermill": {
     "duration": 0.384582,
     "end_time": "2021-05-09T12:52:08.434845",
     "exception": false,
     "start_time": "2021-05-09T12:52:08.050263",
     "status": "completed"
    },
    "tags": []
   },
   "outputs": [
    {
     "name": "stdout",
     "output_type": "stream",
     "text": [
      "Finding similar titles...\n",
      "chunk 0 to 3\n"
     ]
    }
   ],
   "source": [
    "# 分块做匹配。因为数据量大，无法一次性做两两匹配（会超内存）。\n",
    "preds2 = []\n",
    "CHUNK = 1024 * 4 # 每个分块的大小\n",
    "\n",
    "print('Finding similar titles...')\n",
    "CTS = len(test)//CHUNK\n",
    "if len(test)%CHUNK!=0: \n",
    "    CTS += 1\n",
    "for j in range( CTS ):\n",
    "    a = j*CHUNK\n",
    "    b = (j+1)*CHUNK\n",
    "    b = min(b,len(test))\n",
    "    print('chunk',a,'to',b)\n",
    "    \n",
    "    # 矩阵相乘计算相似度（features * features.T）\n",
    "    # COSINE SIMILARITY DISTANCE，余弦相似度的知识，cos = (a*b) / (|a|*|b|)\n",
    "    cts = cupy.matmul(text_embeddings, text_embeddings[a:b].T).T\n",
    "    \n",
    "    for k in range(b-a): \n",
    "        IDX = cupy.where(cts[k,] > CFG.txt_thres)[0] # 根据阈值确定匹配商品\n",
    "        o = test.iloc[cupy.asnumpy(IDX)].posting_id.values\n",
    "        preds2.append(o)\n",
    "        \n",
    "del model, text_embeddings\n",
    "_ = gc.collect()\n",
    "\n",
    "test[\"preds2\"] = preds2"
   ]
  },
  {
   "cell_type": "markdown",
   "metadata": {
    "papermill": {
     "duration": 0.020515,
     "end_time": "2021-05-09T12:52:08.572193",
     "exception": false,
     "start_time": "2021-05-09T12:52:08.551678",
     "status": "completed"
    },
    "tags": []
   },
   "source": [
    "# 3.PHASH"
   ]
  },
  {
   "cell_type": "code",
   "execution_count": 24,
   "metadata": {
    "execution": {
     "iopub.execute_input": "2021-05-09T12:52:08.621260Z",
     "iopub.status.busy": "2021-05-09T12:52:08.620493Z",
     "iopub.status.idle": "2021-05-09T12:52:08.625910Z",
     "shell.execute_reply": "2021-05-09T12:52:08.625397Z"
    },
    "papermill": {
     "duration": 0.033159,
     "end_time": "2021-05-09T12:52:08.626024",
     "exception": false,
     "start_time": "2021-05-09T12:52:08.592865",
     "status": "completed"
    },
    "tags": []
   },
   "outputs": [],
   "source": [
    "# 数据csv自带的phash做匹配，phash相同则认为商品匹配\n",
    "tmp = test.groupby('image_phash').posting_id.agg('unique').to_dict() \n",
    "test['preds3'] = test.image_phash.map(tmp)"
   ]
  },
  {
   "cell_type": "markdown",
   "metadata": {
    "papermill": {
     "duration": 0.020643,
     "end_time": "2021-05-09T12:52:08.667398",
     "exception": false,
     "start_time": "2021-05-09T12:52:08.646755",
     "status": "completed"
    },
    "tags": []
   },
   "source": [
    "# Combine"
   ]
  },
  {
   "cell_type": "code",
   "execution_count": 25,
   "metadata": {
    "execution": {
     "iopub.execute_input": "2021-05-09T12:52:08.743042Z",
     "iopub.status.busy": "2021-05-09T12:52:08.742300Z",
     "iopub.status.idle": "2021-05-09T12:52:08.878315Z",
     "shell.execute_reply": "2021-05-09T12:52:08.877177Z"
    },
    "papermill": {
     "duration": 0.179454,
     "end_time": "2021-05-09T12:52:08.878509",
     "exception": false,
     "start_time": "2021-05-09T12:52:08.699055",
     "status": "completed"
    },
    "tags": []
   },
   "outputs": [],
   "source": [
    "# 定义联合匹配函数（CNN,TEXT,PHASH三种方式做交集匹配）\n",
    "def combine_for_sub(row):\n",
    "    x = np.concatenate([row.preds1, row.preds2, row.preds3])\n",
    "    return ' '.join( np.unique(x) )\n",
    "\n",
    "test['matches'] = test.apply(combine_for_sub,axis=1) # 使用上面的函数进行交集匹配\n",
    "\n",
    "# 输出submission.csv\n",
    "test[['posting_id','matches']].to_csv('submission.csv',index=False)\n",
    "sub = pd.read_csv('submission.csv')"
   ]
  }
 ],
 "metadata": {
  "kernelspec": {
   "display_name": "Python 3",
   "language": "python",
   "name": "python3"
  },
  "language_info": {
   "codemirror_mode": {
    "name": "ipython",
    "version": 3
   },
   "file_extension": ".py",
   "mimetype": "text/x-python",
   "name": "python",
   "nbconvert_exporter": "python",
   "pygments_lexer": "ipython3",
   "version": "3.8.3"
  },
  "papermill": {
   "default_parameters": {},
   "duration": 60.38526,
   "end_time": "2021-05-09T12:52:10.663018",
   "environment_variables": {},
   "exception": null,
   "input_path": "__notebook__.ipynb",
   "output_path": "__notebook__.ipynb",
   "parameters": {},
   "start_time": "2021-05-09T12:51:10.277758",
   "version": "2.2.2"
  },
  "toc": {
   "base_numbering": 1,
   "nav_menu": {},
   "number_sections": true,
   "sideBar": true,
   "skip_h1_title": false,
   "title_cell": "Table of Contents",
   "title_sidebar": "Contents",
   "toc_cell": false,
   "toc_position": {},
   "toc_section_display": true,
   "toc_window_display": false
  },
  "widgets": {
   "application/vnd.jupyter.widget-state+json": {
    "state": {
     "0791c5312d384a56b9c47c08741ea1fe": {
      "model_module": "@jupyter-widgets/base",
      "model_module_version": "1.2.0",
      "model_name": "LayoutModel",
      "state": {
       "_model_module": "@jupyter-widgets/base",
       "_model_module_version": "1.2.0",
       "_model_name": "LayoutModel",
       "_view_count": null,
       "_view_module": "@jupyter-widgets/base",
       "_view_module_version": "1.2.0",
       "_view_name": "LayoutView",
       "align_content": null,
       "align_items": null,
       "align_self": null,
       "border": null,
       "bottom": null,
       "display": null,
       "flex": null,
       "flex_flow": null,
       "grid_area": null,
       "grid_auto_columns": null,
       "grid_auto_flow": null,
       "grid_auto_rows": null,
       "grid_column": null,
       "grid_gap": null,
       "grid_row": null,
       "grid_template_areas": null,
       "grid_template_columns": null,
       "grid_template_rows": null,
       "height": null,
       "justify_content": null,
       "justify_items": null,
       "left": null,
       "margin": null,
       "max_height": null,
       "max_width": null,
       "min_height": null,
       "min_width": null,
       "object_fit": null,
       "object_position": null,
       "order": null,
       "overflow": null,
       "overflow_x": null,
       "overflow_y": null,
       "padding": null,
       "right": null,
       "top": null,
       "visibility": null,
       "width": null
      }
     },
     "0e5991d16aca467e845b8a0418481f49": {
      "model_module": "@jupyter-widgets/controls",
      "model_module_version": "1.5.0",
      "model_name": "ProgressStyleModel",
      "state": {
       "_model_module": "@jupyter-widgets/controls",
       "_model_module_version": "1.5.0",
       "_model_name": "ProgressStyleModel",
       "_view_count": null,
       "_view_module": "@jupyter-widgets/base",
       "_view_module_version": "1.2.0",
       "_view_name": "StyleView",
       "bar_color": null,
       "description_width": ""
      }
     },
     "0f4f76c1364b4b0f9d2ee15d566d75b8": {
      "model_module": "@jupyter-widgets/controls",
      "model_module_version": "1.5.0",
      "model_name": "DescriptionStyleModel",
      "state": {
       "_model_module": "@jupyter-widgets/controls",
       "_model_module_version": "1.5.0",
       "_model_name": "DescriptionStyleModel",
       "_view_count": null,
       "_view_module": "@jupyter-widgets/base",
       "_view_module_version": "1.2.0",
       "_view_name": "StyleView",
       "description_width": ""
      }
     },
     "1217998890f549819ee1b6afff78bbe7": {
      "model_module": "@jupyter-widgets/base",
      "model_module_version": "1.2.0",
      "model_name": "LayoutModel",
      "state": {
       "_model_module": "@jupyter-widgets/base",
       "_model_module_version": "1.2.0",
       "_model_name": "LayoutModel",
       "_view_count": null,
       "_view_module": "@jupyter-widgets/base",
       "_view_module_version": "1.2.0",
       "_view_name": "LayoutView",
       "align_content": null,
       "align_items": null,
       "align_self": null,
       "border": null,
       "bottom": null,
       "display": null,
       "flex": null,
       "flex_flow": null,
       "grid_area": null,
       "grid_auto_columns": null,
       "grid_auto_flow": null,
       "grid_auto_rows": null,
       "grid_column": null,
       "grid_gap": null,
       "grid_row": null,
       "grid_template_areas": null,
       "grid_template_columns": null,
       "grid_template_rows": null,
       "height": null,
       "justify_content": null,
       "justify_items": null,
       "left": null,
       "margin": null,
       "max_height": null,
       "max_width": null,
       "min_height": null,
       "min_width": null,
       "object_fit": null,
       "object_position": null,
       "order": null,
       "overflow": null,
       "overflow_x": null,
       "overflow_y": null,
       "padding": null,
       "right": null,
       "top": null,
       "visibility": null,
       "width": null
      }
     },
     "12b1e5af641a4650838e964b417fe3d3": {
      "model_module": "@jupyter-widgets/controls",
      "model_module_version": "1.5.0",
      "model_name": "HTMLModel",
      "state": {
       "_dom_classes": [],
       "_model_module": "@jupyter-widgets/controls",
       "_model_module_version": "1.5.0",
       "_model_name": "HTMLModel",
       "_view_count": null,
       "_view_module": "@jupyter-widgets/controls",
       "_view_module_version": "1.5.0",
       "_view_name": "HTMLView",
       "description": "",
       "description_tooltip": null,
       "layout": "IPY_MODEL_1e5e9cbf93b941b495bd6f467e2868d7",
       "placeholder": "​",
       "style": "IPY_MODEL_b597899b42b94bd4b249d2e6d6579e73",
       "value": "100%"
      }
     },
     "196151bfc6e14e8a91e7d864319a0717": {
      "model_module": "@jupyter-widgets/controls",
      "model_module_version": "1.5.0",
      "model_name": "FloatProgressModel",
      "state": {
       "_dom_classes": [],
       "_model_module": "@jupyter-widgets/controls",
       "_model_module_version": "1.5.0",
       "_model_name": "FloatProgressModel",
       "_view_count": null,
       "_view_module": "@jupyter-widgets/controls",
       "_view_module_version": "1.5.0",
       "_view_name": "ProgressView",
       "bar_style": "success",
       "description": "",
       "description_tooltip": null,
       "layout": "IPY_MODEL_215823046ea0489e855febd00d74c220",
       "max": 1,
       "min": 0,
       "orientation": "horizontal",
       "style": "IPY_MODEL_915b77144ab440db8bd09fc97f8cb4ae",
       "value": 1
      }
     },
     "1bec217326c642199527d9c714d90b56": {
      "model_module": "@jupyter-widgets/base",
      "model_module_version": "1.2.0",
      "model_name": "LayoutModel",
      "state": {
       "_model_module": "@jupyter-widgets/base",
       "_model_module_version": "1.2.0",
       "_model_name": "LayoutModel",
       "_view_count": null,
       "_view_module": "@jupyter-widgets/base",
       "_view_module_version": "1.2.0",
       "_view_name": "LayoutView",
       "align_content": null,
       "align_items": null,
       "align_self": null,
       "border": null,
       "bottom": null,
       "display": null,
       "flex": null,
       "flex_flow": null,
       "grid_area": null,
       "grid_auto_columns": null,
       "grid_auto_flow": null,
       "grid_auto_rows": null,
       "grid_column": null,
       "grid_gap": null,
       "grid_row": null,
       "grid_template_areas": null,
       "grid_template_columns": null,
       "grid_template_rows": null,
       "height": null,
       "justify_content": null,
       "justify_items": null,
       "left": null,
       "margin": null,
       "max_height": null,
       "max_width": null,
       "min_height": null,
       "min_width": null,
       "object_fit": null,
       "object_position": null,
       "order": null,
       "overflow": null,
       "overflow_x": null,
       "overflow_y": null,
       "padding": null,
       "right": null,
       "top": null,
       "visibility": null,
       "width": null
      }
     },
     "1e5e9cbf93b941b495bd6f467e2868d7": {
      "model_module": "@jupyter-widgets/base",
      "model_module_version": "1.2.0",
      "model_name": "LayoutModel",
      "state": {
       "_model_module": "@jupyter-widgets/base",
       "_model_module_version": "1.2.0",
       "_model_name": "LayoutModel",
       "_view_count": null,
       "_view_module": "@jupyter-widgets/base",
       "_view_module_version": "1.2.0",
       "_view_name": "LayoutView",
       "align_content": null,
       "align_items": null,
       "align_self": null,
       "border": null,
       "bottom": null,
       "display": null,
       "flex": null,
       "flex_flow": null,
       "grid_area": null,
       "grid_auto_columns": null,
       "grid_auto_flow": null,
       "grid_auto_rows": null,
       "grid_column": null,
       "grid_gap": null,
       "grid_row": null,
       "grid_template_areas": null,
       "grid_template_columns": null,
       "grid_template_rows": null,
       "height": null,
       "justify_content": null,
       "justify_items": null,
       "left": null,
       "margin": null,
       "max_height": null,
       "max_width": null,
       "min_height": null,
       "min_width": null,
       "object_fit": null,
       "object_position": null,
       "order": null,
       "overflow": null,
       "overflow_x": null,
       "overflow_y": null,
       "padding": null,
       "right": null,
       "top": null,
       "visibility": null,
       "width": null
      }
     },
     "215823046ea0489e855febd00d74c220": {
      "model_module": "@jupyter-widgets/base",
      "model_module_version": "1.2.0",
      "model_name": "LayoutModel",
      "state": {
       "_model_module": "@jupyter-widgets/base",
       "_model_module_version": "1.2.0",
       "_model_name": "LayoutModel",
       "_view_count": null,
       "_view_module": "@jupyter-widgets/base",
       "_view_module_version": "1.2.0",
       "_view_name": "LayoutView",
       "align_content": null,
       "align_items": null,
       "align_self": null,
       "border": null,
       "bottom": null,
       "display": null,
       "flex": null,
       "flex_flow": null,
       "grid_area": null,
       "grid_auto_columns": null,
       "grid_auto_flow": null,
       "grid_auto_rows": null,
       "grid_column": null,
       "grid_gap": null,
       "grid_row": null,
       "grid_template_areas": null,
       "grid_template_columns": null,
       "grid_template_rows": null,
       "height": null,
       "justify_content": null,
       "justify_items": null,
       "left": null,
       "margin": null,
       "max_height": null,
       "max_width": null,
       "min_height": null,
       "min_width": null,
       "object_fit": null,
       "object_position": null,
       "order": null,
       "overflow": null,
       "overflow_x": null,
       "overflow_y": null,
       "padding": null,
       "right": null,
       "top": null,
       "visibility": null,
       "width": null
      }
     },
     "3a695eada82142049d2a013ded480d07": {
      "model_module": "@jupyter-widgets/base",
      "model_module_version": "1.2.0",
      "model_name": "LayoutModel",
      "state": {
       "_model_module": "@jupyter-widgets/base",
       "_model_module_version": "1.2.0",
       "_model_name": "LayoutModel",
       "_view_count": null,
       "_view_module": "@jupyter-widgets/base",
       "_view_module_version": "1.2.0",
       "_view_name": "LayoutView",
       "align_content": null,
       "align_items": null,
       "align_self": null,
       "border": null,
       "bottom": null,
       "display": null,
       "flex": null,
       "flex_flow": null,
       "grid_area": null,
       "grid_auto_columns": null,
       "grid_auto_flow": null,
       "grid_auto_rows": null,
       "grid_column": null,
       "grid_gap": null,
       "grid_row": null,
       "grid_template_areas": null,
       "grid_template_columns": null,
       "grid_template_rows": null,
       "height": null,
       "justify_content": null,
       "justify_items": null,
       "left": null,
       "margin": null,
       "max_height": null,
       "max_width": null,
       "min_height": null,
       "min_width": null,
       "object_fit": null,
       "object_position": null,
       "order": null,
       "overflow": null,
       "overflow_x": null,
       "overflow_y": null,
       "padding": null,
       "right": null,
       "top": null,
       "visibility": null,
       "width": null
      }
     },
     "3de53761e99942f084111fc0f95d0854": {
      "model_module": "@jupyter-widgets/base",
      "model_module_version": "1.2.0",
      "model_name": "LayoutModel",
      "state": {
       "_model_module": "@jupyter-widgets/base",
       "_model_module_version": "1.2.0",
       "_model_name": "LayoutModel",
       "_view_count": null,
       "_view_module": "@jupyter-widgets/base",
       "_view_module_version": "1.2.0",
       "_view_name": "LayoutView",
       "align_content": null,
       "align_items": null,
       "align_self": null,
       "border": null,
       "bottom": null,
       "display": null,
       "flex": null,
       "flex_flow": null,
       "grid_area": null,
       "grid_auto_columns": null,
       "grid_auto_flow": null,
       "grid_auto_rows": null,
       "grid_column": null,
       "grid_gap": null,
       "grid_row": null,
       "grid_template_areas": null,
       "grid_template_columns": null,
       "grid_template_rows": null,
       "height": null,
       "justify_content": null,
       "justify_items": null,
       "left": null,
       "margin": null,
       "max_height": null,
       "max_width": null,
       "min_height": null,
       "min_width": null,
       "object_fit": null,
       "object_position": null,
       "order": null,
       "overflow": null,
       "overflow_x": null,
       "overflow_y": null,
       "padding": null,
       "right": null,
       "top": null,
       "visibility": null,
       "width": null
      }
     },
     "405d4c412e4f472b804a6c4161642390": {
      "model_module": "@jupyter-widgets/controls",
      "model_module_version": "1.5.0",
      "model_name": "FloatProgressModel",
      "state": {
       "_dom_classes": [],
       "_model_module": "@jupyter-widgets/controls",
       "_model_module_version": "1.5.0",
       "_model_name": "FloatProgressModel",
       "_view_count": null,
       "_view_module": "@jupyter-widgets/controls",
       "_view_module_version": "1.5.0",
       "_view_name": "ProgressView",
       "bar_style": "success",
       "description": "",
       "description_tooltip": null,
       "layout": "IPY_MODEL_5a8d92a1950c41c9a4b1c5e5efd071dd",
       "max": 3,
       "min": 0,
       "orientation": "horizontal",
       "style": "IPY_MODEL_d81d09bc22274b8ab185f09cab9c175c",
       "value": 3
      }
     },
     "411a2b56c13a415ca3c7da78015c4899": {
      "model_module": "@jupyter-widgets/base",
      "model_module_version": "1.2.0",
      "model_name": "LayoutModel",
      "state": {
       "_model_module": "@jupyter-widgets/base",
       "_model_module_version": "1.2.0",
       "_model_name": "LayoutModel",
       "_view_count": null,
       "_view_module": "@jupyter-widgets/base",
       "_view_module_version": "1.2.0",
       "_view_name": "LayoutView",
       "align_content": null,
       "align_items": null,
       "align_self": null,
       "border": null,
       "bottom": null,
       "display": null,
       "flex": null,
       "flex_flow": null,
       "grid_area": null,
       "grid_auto_columns": null,
       "grid_auto_flow": null,
       "grid_auto_rows": null,
       "grid_column": null,
       "grid_gap": null,
       "grid_row": null,
       "grid_template_areas": null,
       "grid_template_columns": null,
       "grid_template_rows": null,
       "height": null,
       "justify_content": null,
       "justify_items": null,
       "left": null,
       "margin": null,
       "max_height": null,
       "max_width": null,
       "min_height": null,
       "min_width": null,
       "object_fit": null,
       "object_position": null,
       "order": null,
       "overflow": null,
       "overflow_x": null,
       "overflow_y": null,
       "padding": null,
       "right": null,
       "top": null,
       "visibility": null,
       "width": null
      }
     },
     "52e7297483e94ed285dbc601d0c25db8": {
      "model_module": "@jupyter-widgets/controls",
      "model_module_version": "1.5.0",
      "model_name": "HTMLModel",
      "state": {
       "_dom_classes": [],
       "_model_module": "@jupyter-widgets/controls",
       "_model_module_version": "1.5.0",
       "_model_name": "HTMLModel",
       "_view_count": null,
       "_view_module": "@jupyter-widgets/controls",
       "_view_module_version": "1.5.0",
       "_view_name": "HTMLView",
       "description": "",
       "description_tooltip": null,
       "layout": "IPY_MODEL_1217998890f549819ee1b6afff78bbe7",
       "placeholder": "​",
       "style": "IPY_MODEL_0f4f76c1364b4b0f9d2ee15d566d75b8",
       "value": " 1/1 [00:01&lt;00:00,  1.03s/it]"
      }
     },
     "574a46fe73c9474f8725bff4a82c0c9c": {
      "model_module": "@jupyter-widgets/controls",
      "model_module_version": "1.5.0",
      "model_name": "FloatProgressModel",
      "state": {
       "_dom_classes": [],
       "_model_module": "@jupyter-widgets/controls",
       "_model_module_version": "1.5.0",
       "_model_name": "FloatProgressModel",
       "_view_count": null,
       "_view_module": "@jupyter-widgets/controls",
       "_view_module_version": "1.5.0",
       "_view_name": "ProgressView",
       "bar_style": "success",
       "description": "",
       "description_tooltip": null,
       "layout": "IPY_MODEL_1bec217326c642199527d9c714d90b56",
       "max": 1,
       "min": 0,
       "orientation": "horizontal",
       "style": "IPY_MODEL_0e5991d16aca467e845b8a0418481f49",
       "value": 1
      }
     },
     "5a8d92a1950c41c9a4b1c5e5efd071dd": {
      "model_module": "@jupyter-widgets/base",
      "model_module_version": "1.2.0",
      "model_name": "LayoutModel",
      "state": {
       "_model_module": "@jupyter-widgets/base",
       "_model_module_version": "1.2.0",
       "_model_name": "LayoutModel",
       "_view_count": null,
       "_view_module": "@jupyter-widgets/base",
       "_view_module_version": "1.2.0",
       "_view_name": "LayoutView",
       "align_content": null,
       "align_items": null,
       "align_self": null,
       "border": null,
       "bottom": null,
       "display": null,
       "flex": null,
       "flex_flow": null,
       "grid_area": null,
       "grid_auto_columns": null,
       "grid_auto_flow": null,
       "grid_auto_rows": null,
       "grid_column": null,
       "grid_gap": null,
       "grid_row": null,
       "grid_template_areas": null,
       "grid_template_columns": null,
       "grid_template_rows": null,
       "height": null,
       "justify_content": null,
       "justify_items": null,
       "left": null,
       "margin": null,
       "max_height": null,
       "max_width": null,
       "min_height": null,
       "min_width": null,
       "object_fit": null,
       "object_position": null,
       "order": null,
       "overflow": null,
       "overflow_x": null,
       "overflow_y": null,
       "padding": null,
       "right": null,
       "top": null,
       "visibility": null,
       "width": null
      }
     },
     "5d1dcfc81138445189310d68714fdcb2": {
      "model_module": "@jupyter-widgets/controls",
      "model_module_version": "1.5.0",
      "model_name": "HBoxModel",
      "state": {
       "_dom_classes": [],
       "_model_module": "@jupyter-widgets/controls",
       "_model_module_version": "1.5.0",
       "_model_name": "HBoxModel",
       "_view_count": null,
       "_view_module": "@jupyter-widgets/controls",
       "_view_module_version": "1.5.0",
       "_view_name": "HBoxView",
       "box_style": "",
       "children": [
        "IPY_MODEL_12b1e5af641a4650838e964b417fe3d3",
        "IPY_MODEL_574a46fe73c9474f8725bff4a82c0c9c",
        "IPY_MODEL_ac08cda63f874e999f90492cb0e2e7cd"
       ],
       "layout": "IPY_MODEL_a585441dcc3747bbb289f98876f52520"
      }
     },
     "665437736ea04f0e8db1e5a71ca7b7d7": {
      "model_module": "@jupyter-widgets/controls",
      "model_module_version": "1.5.0",
      "model_name": "DescriptionStyleModel",
      "state": {
       "_model_module": "@jupyter-widgets/controls",
       "_model_module_version": "1.5.0",
       "_model_name": "DescriptionStyleModel",
       "_view_count": null,
       "_view_module": "@jupyter-widgets/base",
       "_view_module_version": "1.2.0",
       "_view_name": "StyleView",
       "description_width": ""
      }
     },
     "6c05be1f07bb4f239bbd6b4920daec16": {
      "model_module": "@jupyter-widgets/controls",
      "model_module_version": "1.5.0",
      "model_name": "DescriptionStyleModel",
      "state": {
       "_model_module": "@jupyter-widgets/controls",
       "_model_module_version": "1.5.0",
       "_model_name": "DescriptionStyleModel",
       "_view_count": null,
       "_view_module": "@jupyter-widgets/base",
       "_view_module_version": "1.2.0",
       "_view_name": "StyleView",
       "description_width": ""
      }
     },
     "825c1dc7697a4d9a9403f47bf3b5246b": {
      "model_module": "@jupyter-widgets/base",
      "model_module_version": "1.2.0",
      "model_name": "LayoutModel",
      "state": {
       "_model_module": "@jupyter-widgets/base",
       "_model_module_version": "1.2.0",
       "_model_name": "LayoutModel",
       "_view_count": null,
       "_view_module": "@jupyter-widgets/base",
       "_view_module_version": "1.2.0",
       "_view_name": "LayoutView",
       "align_content": null,
       "align_items": null,
       "align_self": null,
       "border": null,
       "bottom": null,
       "display": null,
       "flex": null,
       "flex_flow": null,
       "grid_area": null,
       "grid_auto_columns": null,
       "grid_auto_flow": null,
       "grid_auto_rows": null,
       "grid_column": null,
       "grid_gap": null,
       "grid_row": null,
       "grid_template_areas": null,
       "grid_template_columns": null,
       "grid_template_rows": null,
       "height": null,
       "justify_content": null,
       "justify_items": null,
       "left": null,
       "margin": null,
       "max_height": null,
       "max_width": null,
       "min_height": null,
       "min_width": null,
       "object_fit": null,
       "object_position": null,
       "order": null,
       "overflow": null,
       "overflow_x": null,
       "overflow_y": null,
       "padding": null,
       "right": null,
       "top": null,
       "visibility": null,
       "width": null
      }
     },
     "8c8559b3a07d44e2bae2d933fb79783e": {
      "model_module": "@jupyter-widgets/controls",
      "model_module_version": "1.5.0",
      "model_name": "DescriptionStyleModel",
      "state": {
       "_model_module": "@jupyter-widgets/controls",
       "_model_module_version": "1.5.0",
       "_model_name": "DescriptionStyleModel",
       "_view_count": null,
       "_view_module": "@jupyter-widgets/base",
       "_view_module_version": "1.2.0",
       "_view_name": "StyleView",
       "description_width": ""
      }
     },
     "915b77144ab440db8bd09fc97f8cb4ae": {
      "model_module": "@jupyter-widgets/controls",
      "model_module_version": "1.5.0",
      "model_name": "ProgressStyleModel",
      "state": {
       "_model_module": "@jupyter-widgets/controls",
       "_model_module_version": "1.5.0",
       "_model_name": "ProgressStyleModel",
       "_view_count": null,
       "_view_module": "@jupyter-widgets/base",
       "_view_module_version": "1.2.0",
       "_view_name": "StyleView",
       "bar_color": null,
       "description_width": ""
      }
     },
     "9fe0b7a0ca0649c99e317b60ec3f445f": {
      "model_module": "@jupyter-widgets/controls",
      "model_module_version": "1.5.0",
      "model_name": "HTMLModel",
      "state": {
       "_dom_classes": [],
       "_model_module": "@jupyter-widgets/controls",
       "_model_module_version": "1.5.0",
       "_model_name": "HTMLModel",
       "_view_count": null,
       "_view_module": "@jupyter-widgets/controls",
       "_view_module_version": "1.5.0",
       "_view_name": "HTMLView",
       "description": "",
       "description_tooltip": null,
       "layout": "IPY_MODEL_411a2b56c13a415ca3c7da78015c4899",
       "placeholder": "​",
       "style": "IPY_MODEL_6c05be1f07bb4f239bbd6b4920daec16",
       "value": " 3/3 [00:00&lt;00:00, 68.02it/s]"
      }
     },
     "a585441dcc3747bbb289f98876f52520": {
      "model_module": "@jupyter-widgets/base",
      "model_module_version": "1.2.0",
      "model_name": "LayoutModel",
      "state": {
       "_model_module": "@jupyter-widgets/base",
       "_model_module_version": "1.2.0",
       "_model_name": "LayoutModel",
       "_view_count": null,
       "_view_module": "@jupyter-widgets/base",
       "_view_module_version": "1.2.0",
       "_view_name": "LayoutView",
       "align_content": null,
       "align_items": null,
       "align_self": null,
       "border": null,
       "bottom": null,
       "display": null,
       "flex": null,
       "flex_flow": null,
       "grid_area": null,
       "grid_auto_columns": null,
       "grid_auto_flow": null,
       "grid_auto_rows": null,
       "grid_column": null,
       "grid_gap": null,
       "grid_row": null,
       "grid_template_areas": null,
       "grid_template_columns": null,
       "grid_template_rows": null,
       "height": null,
       "justify_content": null,
       "justify_items": null,
       "left": null,
       "margin": null,
       "max_height": null,
       "max_width": null,
       "min_height": null,
       "min_width": null,
       "object_fit": null,
       "object_position": null,
       "order": null,
       "overflow": null,
       "overflow_x": null,
       "overflow_y": null,
       "padding": null,
       "right": null,
       "top": null,
       "visibility": null,
       "width": null
      }
     },
     "ac08cda63f874e999f90492cb0e2e7cd": {
      "model_module": "@jupyter-widgets/controls",
      "model_module_version": "1.5.0",
      "model_name": "HTMLModel",
      "state": {
       "_dom_classes": [],
       "_model_module": "@jupyter-widgets/controls",
       "_model_module_version": "1.5.0",
       "_model_name": "HTMLModel",
       "_view_count": null,
       "_view_module": "@jupyter-widgets/controls",
       "_view_module_version": "1.5.0",
       "_view_name": "HTMLView",
       "description": "",
       "description_tooltip": null,
       "layout": "IPY_MODEL_0791c5312d384a56b9c47c08741ea1fe",
       "placeholder": "​",
       "style": "IPY_MODEL_8c8559b3a07d44e2bae2d933fb79783e",
       "value": " 1/1 [00:00&lt;00:00,  2.63it/s]"
      }
     },
     "b597899b42b94bd4b249d2e6d6579e73": {
      "model_module": "@jupyter-widgets/controls",
      "model_module_version": "1.5.0",
      "model_name": "DescriptionStyleModel",
      "state": {
       "_model_module": "@jupyter-widgets/controls",
       "_model_module_version": "1.5.0",
       "_model_name": "DescriptionStyleModel",
       "_view_count": null,
       "_view_module": "@jupyter-widgets/base",
       "_view_module_version": "1.2.0",
       "_view_name": "StyleView",
       "description_width": ""
      }
     },
     "b82b250d357d499ea03507a24f9188a0": {
      "model_module": "@jupyter-widgets/controls",
      "model_module_version": "1.5.0",
      "model_name": "HTMLModel",
      "state": {
       "_dom_classes": [],
       "_model_module": "@jupyter-widgets/controls",
       "_model_module_version": "1.5.0",
       "_model_name": "HTMLModel",
       "_view_count": null,
       "_view_module": "@jupyter-widgets/controls",
       "_view_module_version": "1.5.0",
       "_view_name": "HTMLView",
       "description": "",
       "description_tooltip": null,
       "layout": "IPY_MODEL_3a695eada82142049d2a013ded480d07",
       "placeholder": "​",
       "style": "IPY_MODEL_ddcdbba290774a3c9a68dc8352556c1d",
       "value": "100%"
      }
     },
     "c3dc8ae896d645df9c4b05dbc67469b2": {
      "model_module": "@jupyter-widgets/controls",
      "model_module_version": "1.5.0",
      "model_name": "HBoxModel",
      "state": {
       "_dom_classes": [],
       "_model_module": "@jupyter-widgets/controls",
       "_model_module_version": "1.5.0",
       "_model_name": "HBoxModel",
       "_view_count": null,
       "_view_module": "@jupyter-widgets/controls",
       "_view_module_version": "1.5.0",
       "_view_name": "HBoxView",
       "box_style": "",
       "children": [
        "IPY_MODEL_dfae63e0cd7c4db39b79703a5ad29ed6",
        "IPY_MODEL_405d4c412e4f472b804a6c4161642390",
        "IPY_MODEL_9fe0b7a0ca0649c99e317b60ec3f445f"
       ],
       "layout": "IPY_MODEL_825c1dc7697a4d9a9403f47bf3b5246b"
      }
     },
     "d81d09bc22274b8ab185f09cab9c175c": {
      "model_module": "@jupyter-widgets/controls",
      "model_module_version": "1.5.0",
      "model_name": "ProgressStyleModel",
      "state": {
       "_model_module": "@jupyter-widgets/controls",
       "_model_module_version": "1.5.0",
       "_model_name": "ProgressStyleModel",
       "_view_count": null,
       "_view_module": "@jupyter-widgets/base",
       "_view_module_version": "1.2.0",
       "_view_name": "StyleView",
       "bar_color": null,
       "description_width": ""
      }
     },
     "ddcdbba290774a3c9a68dc8352556c1d": {
      "model_module": "@jupyter-widgets/controls",
      "model_module_version": "1.5.0",
      "model_name": "DescriptionStyleModel",
      "state": {
       "_model_module": "@jupyter-widgets/controls",
       "_model_module_version": "1.5.0",
       "_model_name": "DescriptionStyleModel",
       "_view_count": null,
       "_view_module": "@jupyter-widgets/base",
       "_view_module_version": "1.2.0",
       "_view_name": "StyleView",
       "description_width": ""
      }
     },
     "df413290be7a4731843a0257265852ce": {
      "model_module": "@jupyter-widgets/controls",
      "model_module_version": "1.5.0",
      "model_name": "HBoxModel",
      "state": {
       "_dom_classes": [],
       "_model_module": "@jupyter-widgets/controls",
       "_model_module_version": "1.5.0",
       "_model_name": "HBoxModel",
       "_view_count": null,
       "_view_module": "@jupyter-widgets/controls",
       "_view_module_version": "1.5.0",
       "_view_name": "HBoxView",
       "box_style": "",
       "children": [
        "IPY_MODEL_b82b250d357d499ea03507a24f9188a0",
        "IPY_MODEL_196151bfc6e14e8a91e7d864319a0717",
        "IPY_MODEL_52e7297483e94ed285dbc601d0c25db8"
       ],
       "layout": "IPY_MODEL_3de53761e99942f084111fc0f95d0854"
      }
     },
     "dfae63e0cd7c4db39b79703a5ad29ed6": {
      "model_module": "@jupyter-widgets/controls",
      "model_module_version": "1.5.0",
      "model_name": "HTMLModel",
      "state": {
       "_dom_classes": [],
       "_model_module": "@jupyter-widgets/controls",
       "_model_module_version": "1.5.0",
       "_model_name": "HTMLModel",
       "_view_count": null,
       "_view_module": "@jupyter-widgets/controls",
       "_view_module_version": "1.5.0",
       "_view_name": "HTMLView",
       "description": "",
       "description_tooltip": null,
       "layout": "IPY_MODEL_e34fb7788775400ab2d9f1e47ac290ff",
       "placeholder": "​",
       "style": "IPY_MODEL_665437736ea04f0e8db1e5a71ca7b7d7",
       "value": "100%"
      }
     },
     "e34fb7788775400ab2d9f1e47ac290ff": {
      "model_module": "@jupyter-widgets/base",
      "model_module_version": "1.2.0",
      "model_name": "LayoutModel",
      "state": {
       "_model_module": "@jupyter-widgets/base",
       "_model_module_version": "1.2.0",
       "_model_name": "LayoutModel",
       "_view_count": null,
       "_view_module": "@jupyter-widgets/base",
       "_view_module_version": "1.2.0",
       "_view_name": "LayoutView",
       "align_content": null,
       "align_items": null,
       "align_self": null,
       "border": null,
       "bottom": null,
       "display": null,
       "flex": null,
       "flex_flow": null,
       "grid_area": null,
       "grid_auto_columns": null,
       "grid_auto_flow": null,
       "grid_auto_rows": null,
       "grid_column": null,
       "grid_gap": null,
       "grid_row": null,
       "grid_template_areas": null,
       "grid_template_columns": null,
       "grid_template_rows": null,
       "height": null,
       "justify_content": null,
       "justify_items": null,
       "left": null,
       "margin": null,
       "max_height": null,
       "max_width": null,
       "min_height": null,
       "min_width": null,
       "object_fit": null,
       "object_position": null,
       "order": null,
       "overflow": null,
       "overflow_x": null,
       "overflow_y": null,
       "padding": null,
       "right": null,
       "top": null,
       "visibility": null,
       "width": null
      }
     }
    },
    "version_major": 2,
    "version_minor": 0
   }
  }
 },
 "nbformat": 4,
 "nbformat_minor": 4
}
